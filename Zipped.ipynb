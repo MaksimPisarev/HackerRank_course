{
 "cells": [
  {
   "cell_type": "markdown",
   "id": "bea0f1f6",
   "metadata": {},
   "source": [
    "5 3\n",
    "89 90 78 93 80\n",
    "90 91 85 88 86\n",
    "91 92 83 89 90.5"
   ]
  },
  {
   "cell_type": "code",
   "execution_count": 5,
   "id": "56b845c3-a5b4-414b-aa38-437938cd30a0",
   "metadata": {},
   "outputs": [],
   "source": [
    "sub,st=map(int,input().split(' '))\n",
    "z=zip(*[list(map(float,input().split(' '))) for _ in range(st)])\n",
    "print(*[sum(i)/len(i) for i in z], sep='\\n')"
   ]
  }
 ],
 "metadata": {
  "kernelspec": {
   "display_name": "Python 3 (ipykernel)",
   "language": "python",
   "name": "python3"
  },
  "language_info": {
   "codemirror_mode": {
    "name": "ipython",
    "version": 3
   },
   "file_extension": ".py",
   "mimetype": "text/x-python",
   "name": "python",
   "nbconvert_exporter": "python",
   "pygments_lexer": "ipython3",
   "version": "3.9.12"
  },
  "toc-showtags": false
 },
 "nbformat": 4,
 "nbformat_minor": 5
}
