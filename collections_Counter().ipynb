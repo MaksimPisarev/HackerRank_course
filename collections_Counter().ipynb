{
  "nbformat": 4,
  "nbformat_minor": 0,
  "metadata": {
    "colab": {
      "provenance": [],
      "authorship_tag": "ABX9TyOo31sKbOlO9woKcJS3oKRJ",
      "include_colab_link": true
    },
    "kernelspec": {
      "name": "python3",
      "display_name": "Python 3"
    },
    "language_info": {
      "name": "python"
    }
  },
  "cells": [
    {
      "cell_type": "markdown",
      "metadata": {
        "id": "view-in-github",
        "colab_type": "text"
      },
      "source": [
        "<a href=\"https://colab.research.google.com/github/MaksimPisarev/HackerRank_course/blob/main/collections_Counter().ipynb\" target=\"_parent\"><img src=\"https://colab.research.google.com/assets/colab-badge.svg\" alt=\"Open In Colab\"/></a>"
      ]
    },
    {
      "cell_type": "markdown",
      "source": [
        "10\n",
        "2 3 4 5 6 8 7 6 5 18\n",
        "6\n",
        "6 55\n",
        "6 45\n",
        "6 55\n",
        "4 40\n",
        "18 60\n",
        "10 50"
      ],
      "metadata": {
        "id": "UTb3uJpqguga"
      }
    },
    {
      "cell_type": "code",
      "execution_count": null,
      "metadata": {
        "id": "DMu6-rz_8IRl"
      },
      "outputs": [],
      "source": [
        "import collections"
      ]
    }
  ]
}