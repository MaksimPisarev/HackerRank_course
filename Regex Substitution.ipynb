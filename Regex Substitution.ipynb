{
 "cells": [
  {
   "attachments": {},
   "cell_type": "markdown",
   "metadata": {},
   "source": [
    "11\n",
    "a = 1;\n",
    "b = input();\n",
    "\n",
    "if a + b > 0 && a - b < 0:&&\n",
    "    start()\n",
    "elif a*b > 10 || a/b < 1:\n",
    "    stop()\n",
    "print set(list(a)) | set(list(b)) \n",
    "#Note do not change &&& or ||| or & or |\n",
    "#Only change those '&&' which have space on both sides.\n",
    "#Only change those '|| which have space on both sides."
   ]
  },
  {
   "cell_type": "code",
   "execution_count": 1,
   "metadata": {},
   "outputs": [],
   "source": [
    "import re"
   ]
  },
  {
   "cell_type": "code",
   "execution_count": 2,
   "metadata": {},
   "outputs": [
    {
     "name": "stdout",
     "output_type": "stream",
     "text": [
      "if a + b > 0 and a - b < 0:&&\n"
     ]
    }
   ],
   "source": [
    "N=int(input())\n",
    "for _ in range(N):\n",
    "    string=input()\n",
    "    while re.search(r'\\s&&\\s', string) or re.search(r'\\s\\|\\|\\s', string):\n",
    "        string=re.sub(r'\\s&&\\s', ' and ', string)\n",
    "        string=re.sub(r'\\s\\|\\|\\s', ' or ', string)\n",
    "    print(string)"
   ]
  }
 ],
 "metadata": {
  "kernelspec": {
   "display_name": "Python 3 (ipykernel)",
   "language": "python",
   "name": "python3"
  },
  "language_info": {
   "codemirror_mode": {
    "name": "ipython",
    "version": 3
   },
   "file_extension": ".py",
   "mimetype": "text/x-python",
   "name": "python",
   "nbconvert_exporter": "python",
   "pygments_lexer": "ipython3",
   "version": "3.9.13"
  },
  "orig_nbformat": 4,
  "vscode": {
   "interpreter": {
    "hash": "50bcb06b78c69b842000dcda15530850a9c5f81b491e67aa327e407f091992cb"
   }
  }
 },
 "nbformat": 4,
 "nbformat_minor": 2
}
