{
 "cells": [
  {
   "cell_type": "code",
   "execution_count": 1,
   "metadata": {},
   "outputs": [],
   "source": [
    "import re"
   ]
  },
  {
   "cell_type": "code",
   "execution_count": 20,
   "metadata": {},
   "outputs": [
    {
     "name": "stdout",
     "output_type": "stream",
     "text": [
      "dheeraj <dheeraj-234@gmail.com>\n",
      "harsh <harsh_1234@rediff.in>\n",
      "kumal <kunal_shin@iop.az>\n",
      "mattp <matt23@@india.in>\n"
     ]
    }
   ],
   "source": [
    "def fun(s):\n",
    "    # return True if s is a valid email, else return False\n",
    "    if re.search(r\"<[a-zA-Z0-9]+[\\.a-zA-Z0-9_-]*@[a-zA-Z]+\\.[a-zA-Z]{1,3}>\",s):\n",
    "        return True\n",
    "    else:\n",
    "        return False\n",
    "\n",
    "def filter_mail(emails):\n",
    "    return list(filter(fun, emails))\n",
    "\n",
    "if __name__ == '__main__':\n",
    "    n = int(input())\n",
    "    for _ in range(n):\n",
    "        s=input().split(' ')\n",
    "        if fun(s[1])==True:\n",
    "           print(s[0]+' '+s[1])"
   ]
  },
  {
   "attachments": {},
   "cell_type": "markdown",
   "metadata": {},
   "source": [
    "7\n",
    "dheeraj <dheeraj-234@gmail.com>\n",
    "crap <itsallcrap>\n",
    "harsh <harsh_1234@rediff.in>\n",
    "kumal <kunal_shin@iop.az>\n",
    "mattp <matt23@@india.in>\n",
    "harsh <.harsh_1234@rediff.in>\n",
    "harsh <-harsh_1234@rediff.in>"
   ]
  },
  {
   "attachments": {},
   "cell_type": "markdown",
   "metadata": {},
   "source": [
    "dheeraj <dheeraj-234@gmail.com>\n",
    "harsh <harsh_1234@rediff.in>\n",
    "kumal <kunal_shin@iop.az>"
   ]
  }
 ],
 "metadata": {
  "kernelspec": {
   "display_name": "Python 3 (ipykernel)",
   "language": "python",
   "name": "python3"
  },
  "language_info": {
   "codemirror_mode": {
    "name": "ipython",
    "version": 3
   },
   "file_extension": ".py",
   "mimetype": "text/x-python",
   "name": "python",
   "nbconvert_exporter": "python",
   "pygments_lexer": "ipython3",
   "version": "3.9.13"
  },
  "orig_nbformat": 4
 },
 "nbformat": 4,
 "nbformat_minor": 2
}
