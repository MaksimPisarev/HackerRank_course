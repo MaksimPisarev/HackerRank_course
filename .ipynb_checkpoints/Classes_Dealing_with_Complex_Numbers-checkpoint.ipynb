{
 "cells": [
  {
   "cell_type": "code",
   "execution_count": 1,
   "id": "2c214f77",
   "metadata": {},
   "outputs": [],
   "source": [
    "import math\n",
    "\n",
    "class Complex(object):\n",
    "    def __init__(self, real, imag):\n",
    "        self.real=real\n",
    "        self.imag=imag\n",
    "    def __add__(self, no):\n",
    "        return complex(self.real+no.real, self.imag+no.imag)\n",
    "    def __sub__(self, no):\n",
    "        return complex(self.real-no.real, self.imag-no.imag)\n",
    "    def __mul__(self, no):\n",
    "        return complex(self.real*no.real-self.imag*no.imag, self.real*no.imag+self.imag*no.real)\n",
    "    def __truediv__(self, no):\n",
    "        div = complex(self.real , self.imag)/complex(no.real , no.imag)\n",
    "        return complex(div.real , div.imag)\n",
    "    def mod(self):\n",
    "        c = complex(self.real, self.imag)\n",
    "        m = abs(c)\n",
    "        return complex(m.real, m.imag)\n",
    "    def __str__(self):\n",
    "        if self.imag == 0:\n",
    "            result = \"%.2f+0.00i\" % (self.real)\n",
    "        elif self.real == 0:\n",
    "            if self.imag >= 0:\n",
    "                result = \"0.00+%.2fi\" % (self.imag)\n",
    "            else:\n",
    "                result = \"0.00-%.2fi\" % (abs(self.imag))\n",
    "        elif self.imag > 0:\n",
    "            result = \"%.2f+%.2fi\" % (self.real, self.imag)\n",
    "        else:\n",
    "            result = \"%.2f-%.2fi\" % (self.real, abs(self.imag))\n",
    "        return result"
   ]
  },
  {
   "cell_type": "code",
   "execution_count": 2,
   "id": "757d220a",
   "metadata": {},
   "outputs": [
    {
     "name": "stdout",
     "output_type": "stream",
     "text": [
      "1 2\n",
      "5 6\n"
     ]
    }
   ],
   "source": [
    "if __name__ == '__main__':\n",
    "    C = map(float,input().split())\n",
    "    D = map(float,input().split())\n",
    "    x = complex(*C)\n",
    "    y = complex(*D)\n"
   ]
  },
  {
   "cell_type": "code",
   "execution_count": 3,
   "id": "79117a28",
   "metadata": {},
   "outputs": [
    {
     "ename": "AttributeError",
     "evalue": "'complex' object has no attribute 'mod'",
     "output_type": "error",
     "traceback": [
      "\u001b[1;31m---------------------------------------------------------------------------\u001b[0m",
      "\u001b[1;31mAttributeError\u001b[0m                            Traceback (most recent call last)",
      "Input \u001b[1;32mIn [3]\u001b[0m, in \u001b[0;36m<cell line: 1>\u001b[1;34m()\u001b[0m\n\u001b[1;32m----> 1\u001b[0m \u001b[38;5;28mprint\u001b[39m(\u001b[38;5;241m*\u001b[39m\u001b[38;5;28mmap\u001b[39m(\u001b[38;5;28mstr\u001b[39m, [x\u001b[38;5;241m+\u001b[39my, x\u001b[38;5;241m-\u001b[39my, x\u001b[38;5;241m*\u001b[39my, x\u001b[38;5;241m/\u001b[39my, \u001b[43mx\u001b[49m\u001b[38;5;241;43m.\u001b[39;49m\u001b[43mmod\u001b[49m(), y\u001b[38;5;241m.\u001b[39mmod()]), sep\u001b[38;5;241m=\u001b[39m\u001b[38;5;124m'\u001b[39m\u001b[38;5;130;01m\\n\u001b[39;00m\u001b[38;5;124m'\u001b[39m)\n",
      "\u001b[1;31mAttributeError\u001b[0m: 'complex' object has no attribute 'mod'"
     ]
    }
   ],
   "source": [
    "print(*map(str, [x+y, x-y, x*y, x/y, x.mod(), y.mod()]), sep='\\n')"
   ]
  },
  {
   "cell_type": "code",
   "execution_count": null,
   "id": "2eaf67fd",
   "metadata": {},
   "outputs": [],
   "source": []
  }
 ],
 "metadata": {
  "kernelspec": {
   "display_name": "Python 3 (ipykernel)",
   "language": "python",
   "name": "python3"
  },
  "language_info": {
   "codemirror_mode": {
    "name": "ipython",
    "version": 3
   },
   "file_extension": ".py",
   "mimetype": "text/x-python",
   "name": "python",
   "nbconvert_exporter": "python",
   "pygments_lexer": "ipython3",
   "version": "3.9.12"
  }
 },
 "nbformat": 4,
 "nbformat_minor": 5
}
