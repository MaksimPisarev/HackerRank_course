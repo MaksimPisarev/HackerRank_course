{
 "cells": [
  {
   "cell_type": "code",
   "execution_count": 1,
   "id": "870e2918",
   "metadata": {},
   "outputs": [],
   "source": [
    "from collections import deque \n",
    "\n",
    "for _ in range(int(input())):\n",
    "    n, l = int(input()), list(map(int, input().split()))\n",
    "    min_val_index = l.index(min(l))\n",
    "    flag = True\n",
    "    for i in range(n-1):\n",
    "        if i < min_val_index:\n",
    "            if l[i] < l[i+1]:\n",
    "                flag = False\n",
    "                break\n",
    "        else:\n",
    "            if l[i] > l[i+1]:\n",
    "                flag = False\n",
    "                break\n",
    "    print(\"Yes\") if flag else print(\"No\")"
   ]
  },
  {
   "cell_type": "code",
   "execution_count": null,
   "id": "adcea137",
   "metadata": {},
   "outputs": [],
   "source": []
  }
 ],
 "metadata": {
  "kernelspec": {
   "display_name": "Python 3 (ipykernel)",
   "language": "python",
   "name": "python3"
  },
  "language_info": {
   "codemirror_mode": {
    "name": "ipython",
    "version": 3
   },
   "file_extension": ".py",
   "mimetype": "text/x-python",
   "name": "python",
   "nbconvert_exporter": "python",
   "pygments_lexer": "ipython3",
   "version": "3.9.12"
  }
 },
 "nbformat": 4,
 "nbformat_minor": 5
}
