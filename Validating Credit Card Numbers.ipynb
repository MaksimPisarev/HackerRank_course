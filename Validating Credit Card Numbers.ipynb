{
 "cells": [
  {
   "cell_type": "code",
   "execution_count": 1,
   "metadata": {},
   "outputs": [],
   "source": [
    "import re"
   ]
  },
  {
   "cell_type": "code",
   "execution_count": 7,
   "metadata": {},
   "outputs": [
    {
     "name": "stdout",
     "output_type": "stream",
     "text": [
      "Valid\n",
      "Invalid\n"
     ]
    }
   ],
   "source": [
    "n=int(input())\n",
    "for _ in range(n):\n",
    "    number=input()\n",
    "    if (re.search(r'^[0-9]{16}$|^[0-9]{4}\\-[0-9]{4}\\-[0-9]{4}\\-[0-9]{4}$', number) and\n",
    "       len(re.findall(r'[0-9]', number))==16 and\n",
    "       len(re.findall(r'(.)\\1{4,}', number))==0):\n",
    "       print('Valid')\n",
    "    else:\n",
    "        print('Invalid')"
   ]
  },
  {
   "attachments": {},
   "cell_type": "markdown",
   "metadata": {},
   "source": [
    "4253625879615786\n",
    "4424424424442444\n",
    "5122-2368-7954-3214"
   ]
  }
 ],
 "metadata": {
  "kernelspec": {
   "display_name": "Python 3",
   "language": "python",
   "name": "python3"
  },
  "language_info": {
   "codemirror_mode": {
    "name": "ipython",
    "version": 3
   },
   "file_extension": ".py",
   "mimetype": "text/x-python",
   "name": "python",
   "nbconvert_exporter": "python",
   "pygments_lexer": "ipython3",
   "version": "3.10.4 (v3.10.4:9d38120e33, Mar 23 2022, 17:29:05) [Clang 13.0.0 (clang-1300.0.29.30)]"
  },
  "orig_nbformat": 4,
  "vscode": {
   "interpreter": {
    "hash": "aee8b7b246df8f9039afb4144a1f6fd8d2ca17a180786b69acc140d282b71a49"
   }
  }
 },
 "nbformat": 4,
 "nbformat_minor": 2
}
