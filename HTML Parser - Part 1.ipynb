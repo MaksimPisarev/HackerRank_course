{
 "cells": [
  {
   "cell_type": "code",
   "execution_count": 1,
   "metadata": {},
   "outputs": [],
   "source": [
    "from html.parser import HTMLParser"
   ]
  },
  {
   "cell_type": "code",
   "execution_count": 25,
   "metadata": {},
   "outputs": [],
   "source": [
    "class MyHTMLParser(HTMLParser):\n",
    "    def handle_starttag(self, tag, attrs):\n",
    "        print(\"Start :\", tag)\n",
    "        for attr in attrs:\n",
    "            print(\"->\", attr[0], '>', attr[1])\n",
    "\n",
    "    def handle_endtag(self, tag):\n",
    "        print(\"End   :\", tag)\n",
    "\n",
    "    def handle_startendtag(self, tag, attrs):\n",
    "        print('Empty :', tag)\n",
    "        for attr in attrs:\n",
    "            print(\"->\", attr[0], '>', attr[1])\n",
    "\n",
    "    #def handle_starttag(self, tag: str, attrs: list[tuple[str, str | None]]) -> None:\n",
    "    #    return super().handle_starttag(tag, attrs)\n",
    "    #def handle_data(self, data):\n",
    "    #    print(\"Data     :\", data)\n",
    "\n",
    "    #def handle_comment(self, data):\n",
    "    #    print(\"Comment  :\", data)\n",
    "\n",
    "    #def handle_entityref(self, name):\n",
    "    #    c = chr(name2codepoint[name])\n",
    "    #    print(\"Named ent:\", c)\n",
    "\n",
    "    #def handle_charref(self, name):\n",
    "    #    if name.startswith('x'):\n",
    "    #        c = chr(int(name[1:], 16))\n",
    "    #    else:\n",
    "    #        c = chr(int(name))\n",
    "    #    print(\"Num ent  :\", c)\n",
    "\n",
    "    #def handle_decl(self, data):\n",
    "    #    print(\"Decl     :\", data)"
   ]
  },
  {
   "cell_type": "code",
   "execution_count": 24,
   "metadata": {},
   "outputs": [
    {
     "name": "stdout",
     "output_type": "stream",
     "text": [
      "Start : html\n",
      "Start : head\n",
      "Start : title\n",
      "End : title\n",
      "End : head\n",
      "End : head\n",
      "Start : body\n",
      "-> data-modal-target > None\n",
      "-> class > 1\n",
      "Start : h1\n",
      "End : h1\n",
      "Empty : br\n",
      "End : body\n",
      "End : html\n"
     ]
    }
   ],
   "source": [
    "parser=MyHTMLParser()\n",
    "n=int(input())\n",
    "string=' '.join(input() for _ in range(n))\n",
    "parser.feed(string)"
   ]
  },
  {
   "attachments": {},
   "cell_type": "markdown",
   "metadata": {},
   "source": [
    "Start : html\n",
    "Start : head\n",
    "Start : title\n",
    "End   : title\n",
    "End   : head\n",
    "Start : body\n",
    "-> data-modal-target > None\n",
    "-> class > 1\n",
    "Start : h1\n",
    "End   : h1\n",
    "Empty : br\n",
    "End   : body\n",
    "End   : html"
   ]
  },
  {
   "attachments": {},
   "cell_type": "markdown",
   "metadata": {},
   "source": [
    "<html><head><title>HTML Parser - I</title></head><body data-modal-target class='1'><h1>HackerRank</h1><br /></body></html>"
   ]
  }
 ],
 "metadata": {
  "kernelspec": {
   "display_name": "base",
   "language": "python",
   "name": "python3"
  },
  "language_info": {
   "codemirror_mode": {
    "name": "ipython",
    "version": 3
   },
   "file_extension": ".py",
   "mimetype": "text/x-python",
   "name": "python",
   "nbconvert_exporter": "python",
   "pygments_lexer": "ipython3",
   "version": "3.9.13"
  },
  "orig_nbformat": 4,
  "vscode": {
   "interpreter": {
    "hash": "50bcb06b78c69b842000dcda15530850a9c5f81b491e67aa327e407f091992cb"
   }
  }
 },
 "nbformat": 4,
 "nbformat_minor": 2
}
