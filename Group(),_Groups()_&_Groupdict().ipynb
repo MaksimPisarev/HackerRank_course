{
  "nbformat": 4,
  "nbformat_minor": 0,
  "metadata": {
    "colab": {
      "provenance": [],
      "authorship_tag": "ABX9TyO6W3uBg+KXfMXKVRhPAEP5",
      "include_colab_link": true
    },
    "kernelspec": {
      "name": "python3",
      "display_name": "Python 3"
    },
    "language_info": {
      "name": "python"
    }
  },
  "cells": [
    {
      "cell_type": "markdown",
      "metadata": {
        "id": "view-in-github",
        "colab_type": "text"
      },
      "source": [
        "<a href=\"https://colab.research.google.com/github/MaksimPisarev/HackerRank_course/blob/main/Group()%2C_Groups()_%26_Groupdict().ipynb\" target=\"_parent\"><img src=\"https://colab.research.google.com/assets/colab-badge.svg\" alt=\"Open In Colab\"/></a>"
      ]
    },
    {
      "cell_type": "code",
      "execution_count": 1,
      "metadata": {
        "id": "D8-ppTnRsStu"
      },
      "outputs": [],
      "source": [
        "import re"
      ]
    },
    {
      "cell_type": "code",
      "source": [
        "match = re.search(r'([A-Za-z0-9])(?=\\1)', input())\n",
        "print(match[0] if match else -1)"
      ],
      "metadata": {
        "colab": {
          "base_uri": "https://localhost:8080/"
        },
        "id": "a1gCdZf5u4Er",
        "outputId": "9d07aab0-8a9a-4384-8dec-842ab38cfa84"
      },
      "execution_count": 10,
      "outputs": [
        {
          "output_type": "stream",
          "name": "stdout",
          "text": [
            "..12345678910111213141516171820212223\n",
            "1\n"
          ]
        }
      ]
    },
    {
      "cell_type": "markdown",
      "source": [
        "..12345678910111213141516171820212223"
      ],
      "metadata": {
        "id": "cSUyospEufBy"
      }
    }
  ]
}