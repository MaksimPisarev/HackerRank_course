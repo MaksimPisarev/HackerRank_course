{
 "cells": [
  {
   "cell_type": "code",
   "execution_count": null,
   "id": "07ad6bfc-7162-4a35-8304-59f6c415aab7",
   "metadata": {},
   "outputs": [],
   "source": [
    "import operator"
   ]
  },
  {
   "cell_type": "code",
   "execution_count": null,
   "id": "21bcfc5b-889d-4d8b-9288-84781e9baf84",
   "metadata": {},
   "outputs": [],
   "source": [
    "scoreList=[]\n",
    "nameScoreList=[]\n",
    "resName=[]\n",
    "for _ in range(int(input())):\n",
    "    name = input()\n",
    "    score = float(input())\n",
    "    scoreList.append(score)\n",
    "    nameScoreList.append([name,score])\n",
    "minScoreVal=min(scoreList)\n",
    "while min(scoreList)==minScoreVal:\n",
    "    indxMinVal=operator.indexOf(scoreList,minScoreVal)\n",
    "    operator.delitem(scoreList,indxMinVal)\n",
    "    operator.delitem(nameScoreList,indxMinVal)\n",
    "sorted_by_score=sorted(nameScoreList, key=operator.itemgetter(1))\n",
    "slgScoreVal=min(scoreList)\n",
    "getscore=operator.itemgetter(1)\n",
    "getname=operator.itemgetter(0)\n",
    "scoreList=list(map(getscore,sorted_by_score))\n",
    "for i in sorted_by_score:\n",
    "    if (getscore(i))==slgScoreVal:\n",
    "        resName.append(getname(i))\n",
    "print(*sorted(resName), sep='\\n')  \n",
    "\n",
    "\n",
    "a = [[input(), float(input())] for i in range(int(input()))]\n",
    "s = sorted(set([x[1] for x in a]))\n",
    "for name in sorted(x[0] for x in a if x[1] == s[1]):\n",
    "    print(name)"
   ]
  }
 ],
 "metadata": {
  "kernelspec": {
   "display_name": "Python 3 (ipykernel)",
   "language": "python",
   "name": "python3"
  },
  "language_info": {
   "codemirror_mode": {
    "name": "ipython",
    "version": 3
   },
   "file_extension": ".py",
   "mimetype": "text/x-python",
   "name": "python",
   "nbconvert_exporter": "python",
   "pygments_lexer": "ipython3",
   "version": "3.9.13"
  },
  "widgets": {
   "application/vnd.jupyter.widget-state+json": {
    "state": {},
    "version_major": 2,
    "version_minor": 0
   }
  }
 },
 "nbformat": 4,
 "nbformat_minor": 5
}
