{
 "cells": [
  {
   "cell_type": "code",
   "execution_count": 8,
   "metadata": {},
   "outputs": [],
   "source": [
    "from html.parser import HTMLParser\n",
    "import re"
   ]
  },
  {
   "cell_type": "code",
   "execution_count": 22,
   "metadata": {},
   "outputs": [],
   "source": [
    "class MyHTMLParser(HTMLParser):\n",
    "  def handle_comment(self, data):\n",
    "    if re.search(r'\\n', data):\n",
    "        print('>>> Multi-line Comment', data, sep='\\n')\n",
    "    else:\n",
    "        print('>>> Single-line Comment', data, sep='\\n')\n",
    "\n",
    "  def handle_data(self, data):\n",
    "    if data := data.rstrip('\\n'):\n",
    "      print(\">>> Data\", data, sep='\\n')"
   ]
  },
  {
   "cell_type": "code",
   "execution_count": 23,
   "metadata": {},
   "outputs": [
    {
     "name": "stdout",
     "output_type": "stream",
     "text": [
      "<!--[if IE 9]>IE9-specific content\n",
      "<![endif]-->\n",
      "<div> Welcome to HackerRank</div>\n",
      "<!--[if IE 9]>IE9-specific content<![endif]-->\n",
      "\n",
      ">>> Multy-line comment \n",
      " [if IE 9]>IE9-specific content\n",
      "<![endif]\n",
      ">>> Data\n",
      " Welcome to HackerRank\n",
      ">>> Single-line comment \n",
      " [if IE 9]>IE9-specific content<![endif]\n"
     ]
    }
   ],
   "source": [
    "html = \"\"       \n",
    "for i in range(int(input())):\n",
    "    html += input().rstrip()\n",
    "    html += '\\n'\n",
    "    \n",
    "print(html)\n",
    "parser = MyHTMLParser()\n",
    "parser.feed(html)\n",
    "parser.close()"
   ]
  },
  {
   "attachments": {},
   "cell_type": "markdown",
   "metadata": {},
   "source": [
    "4\n",
    "<!--[if IE 9]>IE9-specific content\n",
    "<![endif]-->\n",
    "<div> Welcome to HackerRank</div>\n",
    "<!--[if IE 9]>IE9-specific content<![endif]-->"
   ]
  },
  {
   "attachments": {},
   "cell_type": "markdown",
   "metadata": {},
   "source": [
    ">>> Multi-line Comment\n",
    "[if IE 9]>IE9-specific content\n",
    "<![endif]\n",
    ">>> Data\n",
    " Welcome to HackerRank\n",
    ">>> Single-line Comment\n",
    "[if IE 9]>IE9-specific content<![endif]"
   ]
  }
 ],
 "metadata": {
  "kernelspec": {
   "display_name": "base",
   "language": "python",
   "name": "python3"
  },
  "language_info": {
   "codemirror_mode": {
    "name": "ipython",
    "version": 3
   },
   "file_extension": ".py",
   "mimetype": "text/x-python",
   "name": "python",
   "nbconvert_exporter": "python",
   "pygments_lexer": "ipython3",
   "version": "3.9.13"
  },
  "orig_nbformat": 4,
  "vscode": {
   "interpreter": {
    "hash": "50bcb06b78c69b842000dcda15530850a9c5f81b491e67aa327e407f091992cb"
   }
  }
 },
 "nbformat": 4,
 "nbformat_minor": 2
}
