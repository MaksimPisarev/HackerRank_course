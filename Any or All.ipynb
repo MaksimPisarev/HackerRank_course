{
 "cells":[
  {
   "cell_type":"markdown",
   "source":[
    "5\n",
    "12 9 61 5 14 "
   ],
   "attachments":{
    
   },
   "metadata":{
    "datalore":{
     "node_id":"P53KYCNyosZMAzxjE2wagO",
     "type":"MD",
     "hide_input_from_viewers":true,
     "hide_output_from_viewers":true
    }
   }
  },
  {
   "cell_type":"code",
   "source":[
    "n=int(input())\n",
    "arr=list(map(int, input().split(' ')))\n",
    "print(any((*arr)<0)) "
   ],
   "execution_count":21,
   "outputs":[
    {
     "name":"stdout",
     "text":[
      " 4\n",
      " 1 2 3 4\n"
     ],
     "output_type":"stream"
    },
    {
     "ename":"SyntaxError",
     "evalue":"SyntaxError: can't use starred expression here",
     "traceback":[
      "\u001b[0;31m---------------------------------------------------------------------------",
      "Traceback (most recent call last)",
      "SyntaxError: can't use starred expression here"
     ],
     "output_type":"error"
    }
   ],
   "metadata":{
    "datalore":{
     "node_id":"26Iif2aH7Wjep24u7bPbcf",
     "type":"CODE",
     "hide_input_from_viewers":true,
     "hide_output_from_viewers":true
    }
   }
  }
 ],
 "metadata":{
  "kernelspec":{
   "display_name":"Python",
   "language":"python",
   "name":"python"
  },
  "datalore":{
   "version":1,
   "computation_mode":"JUPYTER",
   "package_manager":"pip",
   "base_environment":"default",
   "packages":[
    
   ]
  }
 },
 "nbformat":4,
 "nbformat_minor":4
}