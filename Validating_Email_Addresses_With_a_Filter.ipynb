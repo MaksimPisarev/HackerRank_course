{
  "nbformat": 4,
  "nbformat_minor": 0,
  "metadata": {
    "colab": {
      "provenance": [],
      "authorship_tag": "ABX9TyO2ZOZ9CRSUdk46X1oljkAb",
      "include_colab_link": true
    },
    "kernelspec": {
      "name": "python3",
      "display_name": "Python 3"
    },
    "language_info": {
      "name": "python"
    }
  },
  "cells": [
    {
      "cell_type": "markdown",
      "metadata": {
        "id": "view-in-github",
        "colab_type": "text"
      },
      "source": [
        "<a href=\"https://colab.research.google.com/github/MaksimPisarev/HackerRank_course/blob/main/Validating_Email_Addresses_With_a_Filter.ipynb\" target=\"_parent\"><img src=\"https://colab.research.google.com/assets/colab-badge.svg\" alt=\"Open In Colab\"/></a>"
      ]
    },
    {
      "cell_type": "markdown",
      "source": [
        "3\n",
        "lara@hackerrank.com\n",
        "brian-23@hackerrank.com\n",
        "britts_54@hackerrank.com"
      ],
      "metadata": {
        "id": "eEvuXpTLseAP"
      }
    },
    {
      "cell_type": "code",
      "source": [
        "import re"
      ],
      "metadata": {
        "id": "cXCkEnjQ2QUJ"
      },
      "execution_count": null,
      "outputs": []
    },
    {
      "cell_type": "code",
      "execution_count": null,
      "metadata": {
        "id": "XXNL82fQZmJ6"
      },
      "outputs": [],
      "source": [
        "def fun(s):\n",
        "    # return True if s is a valid email, else return False\n",
        "\n",
        "def filter_mail(emails):\n",
        "    return list(filter(fun, emails))\n",
        "\n",
        "if __name__ == '__main__':\n",
        "    n = int(input())\n",
        "    emails = []\n",
        "    for _ in range(n):\n",
        "        emails.append(input())\n",
        "\n",
        "filtered_emails = filter_mail(emails)\n",
        "filtered_emails.sort()\n",
        "print(filtered_emails)"
      ]
    }
  ]
}