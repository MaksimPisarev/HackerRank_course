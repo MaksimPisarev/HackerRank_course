{
  "nbformat": 4,
  "nbformat_minor": 0,
  "metadata": {
    "colab": {
      "provenance": [],
      "authorship_tag": "ABX9TyM7Y6qkO75JpB6nwdYgDUR7",
      "include_colab_link": true
    },
    "kernelspec": {
      "name": "python3",
      "display_name": "Python 3"
    },
    "language_info": {
      "name": "python"
    }
  },
  "cells": [
    {
      "cell_type": "markdown",
      "metadata": {
        "id": "view-in-github",
        "colab_type": "text"
      },
      "source": [
        "<a href=\"https://colab.research.google.com/github/MaksimPisarev/HackerRank_course/blob/main/Validating_Email_Addresses_With_a_Filter.ipynb\" target=\"_parent\"><img src=\"https://colab.research.google.com/assets/colab-badge.svg\" alt=\"Open In Colab\"/></a>"
      ]
    },
    {
      "cell_type": "markdown",
      "source": [
        "3\n",
        "lara@hackerrank.com\n",
        "brian-23@hackerrank.com\n",
        "britts_54@hackerrank.com"
      ],
      "metadata": {
        "id": "eEvuXpTLseAP"
      }
    },
    {
      "cell_type": "code",
      "source": [
        "import re"
      ],
      "metadata": {
        "id": "cXCkEnjQ2QUJ"
      },
      "execution_count": null,
      "outputs": []
    },
    {
      "cell_type": "code",
      "execution_count": 6,
      "metadata": {
        "id": "XXNL82fQZmJ6",
        "colab": {
          "base_uri": "https://localhost:8080/"
        },
        "outputId": "2f307ea8-7026-4aef-e189-b8d436882648"
      },
      "outputs": [
        {
          "output_type": "stream",
          "name": "stdout",
          "text": [
            "2\n",
            "harsh@gmail\n",
            "iota_98@hackerrank.com\n",
            "['harsh@gmail', 'iota_98@hackerrank.com']\n"
          ]
        }
      ],
      "source": [
        "def fun(s):\n",
        "    # return True if s is a valid email, else return False\n",
        "    if re.search(r\"\\b\\S{1,}@\\S{1,}.\\S*?\\S{1,}\\b\",s):\n",
        "        return True\n",
        "    else:\n",
        "        return False\n",
        "\n",
        "def filter_mail(emails):\n",
        "    return list(filter(fun, emails))\n",
        "\n",
        "if __name__ == '__main__':\n",
        "    n = int(input())\n",
        "    emails = []\n",
        "    for _ in range(n):\n",
        "        emails.append(input())\n",
        "\n",
        "filtered_emails = filter_mail(emails)\n",
        "filtered_emails.sort()\n",
        "print(filtered_emails)"
      ]
    },
    {
      "cell_type": "markdown",
      "source": [
        "2\n",
        "harsh@gmail\n",
        "iota_98@hackerrank.com"
      ],
      "metadata": {
        "id": "YjcdSp-1WRcb"
      }
    },
    {
      "cell_type": "markdown",
      "source": [
        "**import** re\n",
        "\n",
        "n=**int**(**input**())\n",
        "\n",
        "string = \" \".join([**input**() **for** _ **in** **range**(n)])\n",
        "\n",
        "**print**(';'.join(**sorted**(**set**(re.findall(r'\\b\\S{1,}@\\S{1,}\\.\\S*?\\S{1,}\\b',string)))))"
      ],
      "metadata": {
        "id": "Uc8V6wofT889"
      }
    }
  ]
}