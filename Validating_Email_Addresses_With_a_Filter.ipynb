{
  "cells": [
    {
      "cell_type": "markdown",
      "metadata": {
        "colab_type": "text",
        "id": "view-in-github"
      },
      "source": [
        "<a href=\"https://colab.research.google.com/github/MaksimPisarev/HackerRank_course/blob/main/Validating_Email_Addresses_With_a_Filter.ipynb\" target=\"_parent\"><img src=\"https://colab.research.google.com/assets/colab-badge.svg\" alt=\"Open In Colab\"/></a>"
      ]
    },
    {
      "cell_type": "markdown",
      "metadata": {
        "id": "eEvuXpTLseAP"
      },
      "source": [
        "3\n",
        "lara@hackerrank.com\n",
        "brian-23@hackerrank.com\n",
        "britts_54@hackerrank.com"
      ]
    },
    {
      "cell_type": "code",
      "execution_count": 1,
      "metadata": {
        "id": "cXCkEnjQ2QUJ"
      },
      "outputs": [],
      "source": [
        "import re"
      ]
    },
    {
      "cell_type": "code",
      "execution_count": 4,
      "metadata": {
        "colab": {
          "base_uri": "https://localhost:8080/"
        },
        "id": "XXNL82fQZmJ6",
        "outputId": "2f307ea8-7026-4aef-e189-b8d436882648"
      },
      "outputs": [
        {
          "name": "stdout",
          "output_type": "stream",
          "text": [
            "['iota_98@hackerrank.com']\n"
          ]
        }
      ],
      "source": [
        "def fun(s):\n",
        "    # return True if s is a valid email, else return False\n",
        "    if re.search(r\"^[a-z,A-Z,0-9,_,-]{1,}@[a-z,A-Z,0-9]{1,}\\.[a-z,A-Z]{1,3}$\",s):\n",
        "        return True\n",
        "    else:\n",
        "        return False\n",
        "\n",
        "def filter_mail(emails):\n",
        "    return list(filter(fun, emails))\n",
        "\n",
        "if __name__ == '__main__':\n",
        "    n = int(input())\n",
        "    emails = []\n",
        "    for _ in range(n):\n",
        "        emails.append(input())\n",
        "\n",
        "filtered_emails = filter_mail(emails)\n",
        "filtered_emails.sort()\n",
        "print(filtered_emails)"
      ]
    },
    {
      "cell_type": "markdown",
      "metadata": {
        "id": "YjcdSp-1WRcb"
      },
      "source": [
        "2\n",
        "harsh@gmail\n",
        "iota_98@hackerrank.com"
      ]
    },
    {
      "cell_type": "markdown",
      "metadata": {
        "id": "Uc8V6wofT889"
      },
      "source": [
        "**import** re\n",
        "\n",
        "n=**int**(**input**())\n",
        "\n",
        "string = \" \".join([**input**() **for** _ **in** **range**(n)])\n",
        "\n",
        "**print**(';'.join(**sorted**(**set**(re.findall(r'\\b\\S{1,}@\\S{1,}\\.\\S*?\\S{1,}\\b',string)))))"
      ]
    }
  ],
  "metadata": {
    "colab": {
      "authorship_tag": "ABX9TyM7Y6qkO75JpB6nwdYgDUR7",
      "include_colab_link": true,
      "provenance": []
    },
    "kernelspec": {
      "display_name": "Python 3.9.13 ('base')",
      "language": "python",
      "name": "python3"
    },
    "language_info": {
      "codemirror_mode": {
        "name": "ipython",
        "version": 3
      },
      "file_extension": ".py",
      "mimetype": "text/x-python",
      "name": "python",
      "nbconvert_exporter": "python",
      "pygments_lexer": "ipython3",
      "version": "3.9.13"
    },
    "vscode": {
      "interpreter": {
        "hash": "50bcb06b78c69b842000dcda15530850a9c5f81b491e67aa327e407f091992cb"
      }
    }
  },
  "nbformat": 4,
  "nbformat_minor": 0
}
