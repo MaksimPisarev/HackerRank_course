{
 "cells": [
  {
   "cell_type": "code",
   "execution_count": 1,
   "metadata": {},
   "outputs": [],
   "source": [
    "from html.parser import HTMLParser"
   ]
  },
  {
   "cell_type": "code",
   "execution_count": 6,
   "metadata": {},
   "outputs": [],
   "source": [
    "class MyHTMLParser(HTMLParser):\n",
    "    def handle_starttag(self, tag, attrs):\n",
    "        print(tag)\n",
    "        for attr in attrs:\n",
    "            print(\"->\", attr[0], '>', attr[1])\n",
    "\n",
    "    #def handle_endtag(self, tag):\n",
    "    #    print(\"End   :\", tag)\n",
    "\n",
    "    #def handle_startendtag(self, tag, attrs):\n",
    "    #    print('Empty :', tag)\n",
    "    #    for attr in attrs:\n",
    "    #        print(\"->\", attr[0], '>', attr[1])\n",
    "\n",
    "    #def handle_data(self, data):\n",
    "    #    print(\"Data     :\", data)\n",
    "\n",
    "    #def handle_comment(self, data):\n",
    "    #    print(\"Comment  :\", data)\n",
    "\n",
    "    #def handle_entityref(self, name):\n",
    "    #    c = chr(name2codepoint[name])\n",
    "    #    print(\"Named ent:\", c)\n",
    "\n",
    "    #def handle_charref(self, name):\n",
    "    #    if name.startswith('x'):\n",
    "    #        c = chr(int(name[1:], 16))\n",
    "    #    else:\n",
    "    #        c = chr(int(name))\n",
    "    #    print(\"Num ent  :\", c)\n",
    "\n",
    "    #def handle_decl(self, data):\n",
    "    #    print(\"Decl     :\", data)"
   ]
  },
  {
   "cell_type": "code",
   "execution_count": 7,
   "metadata": {},
   "outputs": [
    {
     "name": "stdout",
     "output_type": "stream",
     "text": [
      "head\n",
      "title\n",
      "object\n",
      "-> type > application/x-flash\n",
      "-> data > your-file.swf\n",
      "-> width > 0\n",
      "-> height > 0\n",
      "param\n",
      "-> name > quality\n",
      "-> value > high\n"
     ]
    }
   ],
   "source": [
    "parser=MyHTMLParser()\n",
    "n=int(input())\n",
    "string=' '.join(input() for _ in range(n))\n",
    "parser.feed(string)"
   ]
  },
  {
   "attachments": {},
   "cell_type": "markdown",
   "metadata": {},
   "source": [
    "9\n",
    "<head>\n",
    "<title>HTML</title>\n",
    "</head>\n",
    "<object type=\"application/x-flash\" \n",
    "  data=\"your-file.swf\" \n",
    "  width=\"0\" height=\"0\">\n",
    "  <!-- <param name=\"movie\" value=\"your-file.swf\" /> -->\n",
    "  <param name=\"quality\" value=\"high\"/>\n",
    "</object>"
   ]
  },
  {
   "attachments": {},
   "cell_type": "markdown",
   "metadata": {},
   "source": [
    "head\n",
    "title\n",
    "object\n",
    "-> type > application/x-flash\n",
    "-> data > your-file.swf\n",
    "-> width > 0\n",
    "-> height > 0\n",
    "param\n",
    "-> name > quality\n",
    "-> value > high"
   ]
  }
 ],
 "metadata": {
  "kernelspec": {
   "display_name": "Python 3",
   "language": "python",
   "name": "python3"
  },
  "language_info": {
   "codemirror_mode": {
    "name": "ipython",
    "version": 3
   },
   "file_extension": ".py",
   "mimetype": "text/x-python",
   "name": "python",
   "nbconvert_exporter": "python",
   "pygments_lexer": "ipython3",
   "version": "3.10.4"
  },
  "orig_nbformat": 4,
  "vscode": {
   "interpreter": {
    "hash": "aee8b7b246df8f9039afb4144a1f6fd8d2ca17a180786b69acc140d282b71a49"
   }
  }
 },
 "nbformat": 4,
 "nbformat_minor": 2
}
