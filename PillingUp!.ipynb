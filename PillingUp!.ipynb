{
 "cells": [
  {
   "cell_type": "code",
   "execution_count": 1,
   "id": "870e2918",
   "metadata": {},
   "outputs": [],
   "source": [
    "from collections import deque "
   ]
  },
  {
   "cell_type": "code",
   "execution_count": 2,
   "id": "61211c2e",
   "metadata": {},
   "outputs": [
    {
     "name": "stdout",
     "output_type": "stream",
     "text": [
      "1\n",
      "5\n",
      "1 2 3 7 8\n",
      "deque([1, 2, 3, 7, 8])\n"
     ]
    }
   ],
   "source": [
    "n=int(input())\n",
    "for _ in range(n):\n",
    "    q=int(input())\n",
    "    s=deque(map(int,input().split()))\n",
    "    print(s)"
   ]
  },
  {
   "cell_type": "code",
   "execution_count": 3,
   "id": "e04beb50",
   "metadata": {},
   "outputs": [
    {
     "name": "stdout",
     "output_type": "stream",
     "text": [
      "1 2 3 7\n",
      "1 2 3\n",
      "1 2\n",
      "1\n",
      "\n",
      "Yes\n"
     ]
    }
   ],
   "source": [
    "for i in reversed(sorted(s)):\n",
    "    if s[-1]==i:\n",
    "        s.pop()\n",
    "        print(*s)\n",
    "    elif s[0]==i:\n",
    "        s.popleft()\n",
    "        print(*s)\n",
    "    else:\n",
    "        print('No')\n",
    "        break\n",
    "else:print('Yes')"
   ]
  }
 ],
 "metadata": {
  "kernelspec": {
   "display_name": "Python 3 (ipykernel)",
   "language": "python",
   "name": "python3"
  },
  "language_info": {
   "codemirror_mode": {
    "name": "ipython",
    "version": 3
   },
   "file_extension": ".py",
   "mimetype": "text/x-python",
   "name": "python",
   "nbconvert_exporter": "python",
   "pygments_lexer": "ipython3",
   "version": "3.9.12"
  }
 },
 "nbformat": 4,
 "nbformat_minor": 5
}
